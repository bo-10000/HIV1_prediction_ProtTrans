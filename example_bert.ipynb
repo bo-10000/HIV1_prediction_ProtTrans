{
 "cells": [
  {
   "cell_type": "code",
   "execution_count": null,
   "id": "87161ef8",
   "metadata": {},
   "outputs": [],
   "source": [
    "from trainer import HIVTrainer\n",
    "\n",
    "datasets = ['746', '1625', 'schilling', 'impens']\n",
    "model_name = 'Rostlab/prot_bert'\n",
    "\n",
    "for train_data in datasets:\n",
    "    trainer = HIVTrainer(train_data, model_name)\n",
    "    trainer.train()\n",
    "        \n",
    "    for test_data in datasets:\n",
    "        print('train data: {}, test data: {}'.format(train_data, test_data))\n",
    "        _, _, metrics = trainer.test(test_data)\n",
    "        test_auc = metrics['test_auroc']\n",
    "        \n",
    "        with open('results_ProtBERT.txt', 'a') as f:\n",
    "            f.write('train: {}, test: {}, AUC: {:.4f}\\n'.format(train_data, test_data, test_auc))"
   ]
  }
 ],
 "metadata": {
  "kernelspec": {
   "display_name": "Python 3 (ipykernel)",
   "language": "python",
   "name": "python3"
  },
  "language_info": {
   "codemirror_mode": {
    "name": "ipython",
    "version": 3
   },
   "file_extension": ".py",
   "mimetype": "text/x-python",
   "name": "python",
   "nbconvert_exporter": "python",
   "pygments_lexer": "ipython3",
   "version": "3.8.5"
  }
 },
 "nbformat": 4,
 "nbformat_minor": 5
}
